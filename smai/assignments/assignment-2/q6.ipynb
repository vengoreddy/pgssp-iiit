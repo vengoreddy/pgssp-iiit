{
 "cells": [
  {
   "cell_type": "markdown",
   "metadata": {},
   "source": [
    "# Statistical Methods in AI (CSE/ECE 471) - Spring-2020\n",
    "#  Assignment-2 / **Q6** / Topic: Clustering\n",
    "# Submitted By: VENUGOPAL REDDY MEKA\n",
    "# Roll No: 2019900065"
   ]
  },
  {
   "cell_type": "code",
   "execution_count": 91,
   "metadata": {},
   "outputs": [],
   "source": [
    "from sklearn.datasets import load_files\n",
    "import pandas as pd\n",
    "import numpy as np\n",
    "import os\n",
    "import seaborn as sns\n",
    "import matplotlib.pyplot as plt\n",
    "from matplotlib import style\n",
    "\n",
    "\n",
    "style.use('ggplot')\n",
    "# use matplotlib inline for Jupyter notebook\n",
    "%matplotlib inline"
   ]
  },
  {
   "cell_type": "code",
   "execution_count": 92,
   "metadata": {},
   "outputs": [],
   "source": [
    "DATA_DIR = \"./Datasets/Question-6\"\n",
    "data = load_files(DATA_DIR, encoding=\"utf-8\", decode_error=\"replace\")\n",
    "df = pd.DataFrame(list(zip(data['data'], data['target'])), columns=['text', 'label'])"
   ]
  },
  {
   "cell_type": "code",
   "execution_count": 93,
   "metadata": {},
   "outputs": [
    {
     "data": {
      "text/html": [
       "<div>\n",
       "<style scoped>\n",
       "    .dataframe tbody tr th:only-of-type {\n",
       "        vertical-align: middle;\n",
       "    }\n",
       "\n",
       "    .dataframe tbody tr th {\n",
       "        vertical-align: top;\n",
       "    }\n",
       "\n",
       "    .dataframe thead th {\n",
       "        text-align: right;\n",
       "    }\n",
       "</style>\n",
       "<table border=\"1\" class=\"dataframe\">\n",
       "  <thead>\n",
       "    <tr style=\"text-align: right;\">\n",
       "      <th></th>\n",
       "      <th>text</th>\n",
       "      <th>label</th>\n",
       "    </tr>\n",
       "  </thead>\n",
       "  <tbody>\n",
       "    <tr>\n",
       "      <th>0</th>\n",
       "      <td>Labour trio 'had vote-rig factory'\\n\\nThree La...</td>\n",
       "      <td>0</td>\n",
       "    </tr>\n",
       "    <tr>\n",
       "      <th>1</th>\n",
       "      <td>MPs to debate 'euthanasia laws'\\n\\nMPs are pre...</td>\n",
       "      <td>0</td>\n",
       "    </tr>\n",
       "    <tr>\n",
       "      <th>2</th>\n",
       "      <td>Corry backs skipper Robinson\\n\\nEngland forwar...</td>\n",
       "      <td>0</td>\n",
       "    </tr>\n",
       "    <tr>\n",
       "      <th>3</th>\n",
       "      <td>Consumers 'snub portable video'\\n\\nConsumers w...</td>\n",
       "      <td>0</td>\n",
       "    </tr>\n",
       "    <tr>\n",
       "      <th>4</th>\n",
       "      <td>Beer giant swallows Russian firm\\n\\nBrewing gi...</td>\n",
       "      <td>0</td>\n",
       "    </tr>\n",
       "  </tbody>\n",
       "</table>\n",
       "</div>"
      ],
      "text/plain": [
       "                                                text  label\n",
       "0  Labour trio 'had vote-rig factory'\\n\\nThree La...      0\n",
       "1  MPs to debate 'euthanasia laws'\\n\\nMPs are pre...      0\n",
       "2  Corry backs skipper Robinson\\n\\nEngland forwar...      0\n",
       "3  Consumers 'snub portable video'\\n\\nConsumers w...      0\n",
       "4  Beer giant swallows Russian firm\\n\\nBrewing gi...      0"
      ]
     },
     "execution_count": 93,
     "metadata": {},
     "output_type": "execute_result"
    }
   ],
   "source": [
    "df.head()"
   ]
  },
  {
   "cell_type": "code",
   "execution_count": 94,
   "metadata": {},
   "outputs": [],
   "source": [
    "labels = list()\n",
    "files = os.listdir(DATA_DIR + \"/dataset\")\n",
    "for file in files:\n",
    "    file_name = file.split(\".\")[0]\n",
    "    label = file_name.split(\"_\")[1]\n",
    "    labels.append(label)"
   ]
  },
  {
   "cell_type": "code",
   "execution_count": 95,
   "metadata": {},
   "outputs": [],
   "source": [
    "labels = np.array(labels)"
   ]
  },
  {
   "cell_type": "code",
   "execution_count": 96,
   "metadata": {},
   "outputs": [
    {
     "data": {
      "text/plain": [
       "(602,)"
      ]
     },
     "execution_count": 96,
     "metadata": {},
     "output_type": "execute_result"
    }
   ],
   "source": [
    "labels.shape"
   ]
  },
  {
   "cell_type": "markdown",
   "metadata": {},
   "source": [
    "### Class Cluster"
   ]
  },
  {
   "cell_type": "code",
   "execution_count": 97,
   "metadata": {},
   "outputs": [],
   "source": [
    "class Cluster:\n",
    "    \"\"\"\n",
    "\n",
    "    \"\"\"\n",
    "\n",
    "    def __init__(self, k=5, tolerance=0.0001, max_iterations=500):\n",
    "        \"\"\"\n",
    "\n",
    "        :param k:\n",
    "        :param tolerance:\n",
    "        :param max_iterations:\n",
    "        \"\"\"\n",
    "        self.k = k\n",
    "        self.tolerance = tolerance\n",
    "        self.max_iterations = max_iterations\n",
    "        self.centroids = {}\n",
    "        self.classes = {}\n",
    "        self.labels = None\n",
    "\n",
    "    @staticmethod\n",
    "    def load_data(data_dir):\n",
    "        \"\"\"\n",
    "        Loads the text data from files\n",
    "        :return:\n",
    "        \"\"\"\n",
    "        data = load_files(data_dir, encoding=\"utf-8\", decode_error=\"replace\")\n",
    "        df = pd.DataFrame(list(zip(data['data'], data['target'])), columns=['text', 'label'])\n",
    "        tfidf = TfidfVectorizer(sublinear_tf=True, min_df=5, norm='l2', encoding='latin-1', ngram_range=(1, 2),\n",
    "                                stop_words='english')\n",
    "        return tfidf.fit_transform(df.text).toarray()\n",
    "\n",
    "    @staticmethod\n",
    "    def load_labels(data_dir):\n",
    "        \"\"\"\n",
    "        Loads the labels from the file names\n",
    "        :return:\n",
    "        \"\"\"\n",
    "        labels = list()\n",
    "        files = os.listdir(data_dir)\n",
    "        for file in files:\n",
    "            file_name = file.split(\".\")[0]\n",
    "            label = file_name.split(\"_\")[1]\n",
    "            labels.append(label)\n",
    "\n",
    "        return np.array(labels)\n",
    "\n",
    "    def cluster(self, data_dir):\n",
    "\n",
    "        self.centroids = {}\n",
    "        data = self.load_data(data_dir)\n",
    "\n",
    "        # initialize the centroids, the first 'k' elements in the dataset will be our initial centroids\n",
    "        for i in range(self.k):\n",
    "            self.centroids[i] = data[i]\n",
    "\n",
    "        # begin iterations\n",
    "        for i in range(self.max_iterations):\n",
    "            self.classes = {}\n",
    "            cluster_labels = []\n",
    "            for j in range(self.k):\n",
    "                self.classes[j] = []\n",
    "\n",
    "            # find the distance between the point and cluster; choose the nearest centroid\n",
    "            for features in data:\n",
    "                distances = [np.linalg.norm(features - self.centroids[centroid]) for centroid in self.centroids]\n",
    "                classification = distances.index(min(distances))\n",
    "                self.classes[classification].append(features)\n",
    "                cluster_labels.append(classification + 1)\n",
    "\n",
    "            previous = dict(self.centroids)\n",
    "\n",
    "            # average the cluster datapoints to re-calculate the centroids\n",
    "            for classification in self.classes:\n",
    "                self.centroids[classification] = np.average(self.classes[classification], axis=0)\n",
    "\n",
    "            optimized = True\n",
    "\n",
    "            for c in self.centroids:\n",
    "                original_centroid = previous[c]\n",
    "                current_centroid = self.centroids[c]\n",
    "                if np.sum((current_centroid - original_centroid) * 100.0) > self.tolerance:\n",
    "                    optimized = False\n",
    "\n",
    "            if optimized:\n",
    "                break\n",
    "\n",
    "        return cluster_labels"
   ]
  },
  {
   "cell_type": "markdown",
   "metadata": {},
   "source": [
    "### Perform clustering using Cluster class"
   ]
  },
  {
   "cell_type": "code",
   "execution_count": 98,
   "metadata": {},
   "outputs": [
    {
     "name": "stdout",
     "output_type": "stream",
     "text": [
      "[1, 2, 3, 4, 5, 3, 3, 5, 2, 4, 5, 5, 4, 4, 1, 3, 1, 1, 2, 2, 4, 3, 3, 4, 5, 3, 4, 5, 4, 4, 4, 4, 4, 3, 3, 5, 5, 3, 4, 1, 2, 4, 3, 3, 5, 2, 3, 3, 5, 3, 5, 3, 3, 5, 1, 3, 2, 3, 5, 5, 4, 2, 1, 5, 3, 3, 5, 4, 2, 2, 4, 3, 1, 1, 3, 3, 4, 3, 4, 4, 3, 4, 5, 4, 5, 2, 1, 3, 5, 5, 3, 3, 3, 5, 4, 3, 3, 1, 3, 2, 2, 3, 1, 5, 5, 4, 5, 4, 5, 1, 3, 2, 2, 5, 2, 3, 3, 4, 2, 1, 1, 4, 5, 3, 3, 5, 1, 3, 3, 4, 3, 4, 4, 3, 2, 3, 2, 1, 3, 1, 5, 2, 5, 3, 3, 3, 5, 2, 4, 4, 2, 3, 5, 3, 5, 1, 3, 1, 1, 5, 5, 2, 3, 5, 2, 2, 3, 2, 4, 3, 3, 4, 3, 3, 3, 3, 3, 1, 4, 1, 3, 1, 4, 4, 3, 4, 4, 3, 4, 3, 1, 4, 2, 5, 4, 3, 3, 3, 3, 1, 3, 3, 5, 3, 3, 3, 4, 4, 1, 3, 4, 3, 4, 5, 2, 3, 3, 2, 3, 5, 3, 4, 4, 3, 4, 5, 1, 2, 1, 3, 3, 1, 5, 2, 4, 4, 4, 2, 3, 3, 3, 5, 5, 5, 3, 2, 5, 3, 5, 5, 5, 3, 4, 5, 5, 4, 3, 3, 3, 5, 2, 3, 5, 3, 3, 4, 2, 3, 4, 2, 1, 3, 4, 4, 4, 5, 2, 1, 3, 4, 4, 5, 4, 4, 2, 4, 2, 2, 2, 3, 5, 3, 2, 5, 1, 2, 2, 3, 2, 2, 4, 3, 5, 3, 5, 3, 5, 3, 2, 3, 5, 5, 3, 5, 2, 3, 5, 3, 3, 2, 3, 4, 4, 2, 3, 2, 4, 5, 3, 5, 3, 2, 4, 4, 4, 3, 5, 3, 3, 3, 4, 2, 3, 4, 4, 2, 5, 4, 4, 3, 4, 3, 3, 3, 4, 2, 4, 5, 3, 4, 3, 1, 3, 5, 2, 5, 4, 3, 4, 3, 3, 5, 3, 5, 2, 3, 3, 3, 5, 4, 3, 3, 3, 4, 5, 3, 3, 4, 4, 3, 1, 3, 2, 3, 3, 5, 4, 5, 4, 3, 5, 4, 4, 4, 1, 1, 5, 4, 3, 3, 4, 3, 2, 4, 3, 3, 4, 5, 4, 4, 4, 5, 4, 4, 4, 2, 3, 3, 3, 5, 1, 3, 4, 4, 4, 3, 1, 2, 5, 4, 3, 4, 4, 2, 2, 3, 2, 4, 2, 3, 3, 3, 5, 3, 3, 5, 2, 4, 4, 3, 5, 5, 4, 3, 1, 3, 1, 3, 4, 4, 3, 5, 4, 2, 3, 2, 2, 4, 2, 1, 2, 3, 4, 5, 1, 3, 2, 3, 3, 1, 4, 3, 3, 4, 3, 3, 5, 3, 2, 2, 5, 4, 4, 4, 3, 4, 5, 4, 3, 2, 1, 5, 2, 2, 3, 3, 2, 3, 3, 4, 4, 3, 3, 3, 1, 5, 3, 5, 5, 1, 3, 3, 3, 2, 1, 3, 2, 5, 4, 4, 5, 3, 1, 3, 5, 3, 2, 4, 3, 4, 3, 2, 1, 5, 4, 3, 2, 3, 1, 4, 2, 1, 3, 2, 3, 3, 5, 3, 4, 3, 3, 3, 4, 5, 3, 4, 3, 4, 5, 3, 3, 2, 1, 4, 3, 3, 2, 2, 2, 4, 1, 3, 2, 4, 3, 2, 5, 1, 4, 4, 2, 4]\n"
     ]
    },
    {
     "data": {
      "image/png": "[encoded data removed]",
      "text/plain": [
       "<Figure size 432x288 with 1 Axes>"
      ]
     },
     "metadata": {
      "needs_background": "light"
     },
     "output_type": "display_data"
    }
   ],
   "source": [
    "data_dir = \"./Datasets/Question-6\"\n",
    "cl = Cluster()\n",
    "cluster_labels = cl.cluster(data_dir)\n",
    "print(cluster_labels)\n",
    "\n",
    "# Plotting starts here\n",
    "colors = 10 * [\"r\", \"g\", \"c\", \"b\", \"k\"]\n",
    "\n",
    "for centroid in cl.centroids:\n",
    "    plt.scatter(cl.centroids[centroid][0], cl.centroids[centroid][1], s=130, marker=\"x\")\n",
    "\n",
    "for classification in cl.classes:\n",
    "    color = colors[classification]\n",
    "    for features in cl.classes[classification]:\n",
    "        plt.scatter(features[0], features[1], color=color, s=30)\n",
    "\n",
    "mpld3.show()"
   ]
  },
  {
   "cell_type": "markdown",
   "metadata": {},
   "source": [
    "### Clustering using sklean KMeans (for comparison only)"
   ]
  },
  {
   "cell_type": "code",
   "execution_count": 99,
   "metadata": {},
   "outputs": [
    {
     "data": {
      "image/png": "[encoded data removed]",
      "text/plain": [
       "<Figure size 432x288 with 1 Axes>"
      ]
     },
     "metadata": {
      "needs_background": "light"
     },
     "output_type": "display_data"
    }
   ],
   "source": [
    "from sklearn.cluster import KMeans\n",
    "kmeans = KMeans(n_clusters=5)\n",
    "X = cl.load_data(data_dir)\n",
    "kmeans.fit(X)\n",
    "y_kmeans = kmeans.predict(X)\n",
    "plt.scatter(X[:, 0], X[:, 1], c=y_kmeans, s=50, cmap='viridis')\n",
    "\n",
    "centers = kmeans.cluster_centers_\n",
    "plt.scatter(centers[:, 0], centers[:, 1], c='black', s=200, alpha=0.5);\n",
    "plt.show()"
   ]
  },
  {
   "cell_type": "code",
   "execution_count": null,
   "metadata": {},
   "outputs": [],
   "source": []
  }
 ],
 "metadata": {
  "kernelspec": {
   "display_name": "Python 3",
   "language": "python",
   "name": "python3"
  },
  "language_info": {
   "codemirror_mode": {
    "name": "ipython",
    "version": 3
   },
   "file_extension": ".py",
   "mimetype": "text/x-python",
   "name": "python",
   "nbconvert_exporter": "python",
   "pygments_lexer": "ipython3",
   "version": "3.7.0"
  }
 },
 "nbformat": 4,
 "nbformat_minor": 2
}
